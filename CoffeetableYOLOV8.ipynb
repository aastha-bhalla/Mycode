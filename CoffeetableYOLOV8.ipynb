{
  "cells": [
    {
      "cell_type": "markdown",
      "metadata": {
        "id": "view-in-github",
        "colab_type": "text"
      },
      "source": [
        "<a href=\"https://colab.research.google.com/github/aastha-bhalla/R_code/blob/main/CoffeetableYOLOV8.ipynb\" target=\"_parent\"><img src=\"https://colab.research.google.com/assets/colab-badge.svg\" alt=\"Open In Colab\"/></a>"
      ]
    },
    {
      "cell_type": "code",
      "execution_count": 1,
      "metadata": {
        "colab": {
          "base_uri": "https://localhost:8080/"
        },
        "id": "_YKyfYm5jfjC",
        "outputId": "ea847e6e-e24f-467c-85cb-44125578109c"
      },
      "outputs": [
        {
          "output_type": "stream",
          "name": "stderr",
          "text": [
            "Ultralytics YOLOv8.0.28 🚀 Python-3.8.10 torch-1.13.1+cu116 CPU\n",
            "Setup complete ✅ (2 CPUs, 12.7 GB RAM, 23.6/107.7 GB disk)\n"
          ]
        }
      ],
      "source": [
        "# Pip install method (recommended)\n",
        "%pip install ultralytics\n",
        "import ultralytics\n",
        "ultralytics.checks()"
      ]
    },
    {
      "cell_type": "code",
      "execution_count": 2,
      "metadata": {
        "colab": {
          "base_uri": "https://localhost:8080/"
        },
        "id": "r2nb6Kn1jmjS",
        "outputId": "7b8f157f-100a-4062-99f7-d91fba5ecdb6"
      },
      "outputs": [
        {
          "output_type": "stream",
          "name": "stdout",
          "text": [
            "Cloning into 'ultralytics'...\n",
            "remote: Enumerating objects: 4233, done.\u001b[K\n",
            "remote: Counting objects: 100% (183/183), done.\u001b[K\n",
            "remote: Compressing objects: 100% (109/109), done.\u001b[K\n",
            "remote: Total 4233 (delta 83), reused 131 (delta 54), pack-reused 4050\u001b[K\n",
            "Receiving objects: 100% (4233/4233), 3.83 MiB | 21.08 MiB/s, done.\n",
            "Resolving deltas: 100% (2733/2733), done.\n",
            "  Preparing metadata (setup.py) ... \u001b[?25l\u001b[?25hdone\n"
          ]
        }
      ],
      "source": [
        "# Git clone method (for development)\n",
        "!git clone https://github.com/ultralytics/ultralytics\n",
        "%pip install -qe ultralytics"
      ]
    },
    {
      "cell_type": "code",
      "execution_count": 3,
      "metadata": {
        "colab": {
          "base_uri": "https://localhost:8080/"
        },
        "id": "gY6evkK2jzUw",
        "outputId": "0dfe4999-c03f-4b7b-b10b-a8a58824ed00"
      },
      "outputs": [
        {
          "output_type": "stream",
          "name": "stdout",
          "text": [
            "Mounted at /content/drive\n"
          ]
        }
      ],
      "source": [
        "#Data Taking\n",
        "from google.colab import drive\n",
        "drive.mount('/content/drive')"
      ]
    },
    {
      "cell_type": "code",
      "execution_count": 4,
      "metadata": {
        "colab": {
          "base_uri": "https://localhost:8080/"
        },
        "id": "tj61hw_Qjp4I",
        "outputId": "6afd6973-5783-4500-c0d1-2a21e2edc4c7"
      },
      "outputs": [
        {
          "output_type": "stream",
          "name": "stdout",
          "text": [
            "Downloading https://github.com/ultralytics/assets/releases/download/v0.0.0/yolov8m.pt to yolov8m.pt...\n",
            "100% 49.7M/49.7M [00:00<00:00, 89.6MB/s]\n",
            "Ultralytics YOLOv8.0.28 🚀 Python-3.8.10 torch-1.13.1+cu116 CPU\n",
            "YOLOv8m summary (fused): 218 layers, 25886080 parameters, 0 gradients, 78.9 GFLOPs\n",
            "\n",
            "image 1/48 /content/drive/MyDrive/ColabNotebooks/Images/trainntest/coffeetable (203).jpg: 480x640 1 bottle, 2 chairs, 3 couchs, 1 potted plant, 1 dining table, 2 tvs, 2138.7ms\n",
            "image 2/48 /content/drive/MyDrive/ColabNotebooks/Images/trainntest/coffeetable (204).jpg: 480x640 1 person, 1 sports ball, 1 bottle, 1 bowl, 1 chair, 1 dining table, 1 tv, 1 mouse, 7 books, 4 teddy bears, 1630.3ms\n",
            "image 3/48 /content/drive/MyDrive/ColabNotebooks/Images/trainntest/coffeetable (205).jpg: 384x640 1 bowl, 3 chairs, 1 couch, 4 books, 875.4ms\n",
            "image 4/48 /content/drive/MyDrive/ColabNotebooks/Images/trainntest/coffeetable (206).jpg: 384x640 1 chair, 2 couchs, 4 potted plants, 1 vase, 880.9ms\n",
            "image 5/48 /content/drive/MyDrive/ColabNotebooks/Images/trainntest/coffeetable (207).jpg: 480x640 15 persons, 1 handbag, 1 donut, 10 chairs, 1 dining table, 1 clock, 1081.2ms\n",
            "image 6/48 /content/drive/MyDrive/ColabNotebooks/Images/trainntest/coffeetable (208).jpg: 448x640 1 cup, 1 chair, 1 book, 1049.8ms\n",
            "image 7/48 /content/drive/MyDrive/ColabNotebooks/Images/trainntest/coffeetable (209).jpg: 576x640 1 bottle, 1 bowl, 1 chair, 1 dining table, 1 tv, 5 books, 2 vases, 1306.8ms\n",
            "image 8/48 /content/drive/MyDrive/ColabNotebooks/Images/trainntest/coffeetable (210).jpg: 640x480 1 cup, 2 chairs, 1 bed, 1 dining table, 1103.0ms\n",
            "image 9/48 /content/drive/MyDrive/ColabNotebooks/Images/trainntest/coffeetable (211).jpg: 480x640 14 chairs, 3 couchs, 3 dining tables, 1526.6ms\n",
            "image 10/48 /content/drive/MyDrive/ColabNotebooks/Images/trainntest/coffeetable (212).jpg: 480x640 11 persons, 17 chairs, 10 dining tables, 1813.2ms\n",
            "image 11/48 /content/drive/MyDrive/ColabNotebooks/Images/trainntest/coffeetable (213).jpg: 480x640 3 persons, 2 benchs, 2 dining tables, 1278.8ms\n",
            "image 12/48 /content/drive/MyDrive/ColabNotebooks/Images/trainntest/coffeetable (214).jpg: 480x640 4 persons, 7 chairs, 6 dining tables, 4 vases, 1105.6ms\n",
            "image 13/48 /content/drive/MyDrive/ColabNotebooks/Images/trainntest/coffeetable (215).jpg: 448x640 5 persons, 1 airplane, 1 boat, 1 bottle, 4 wine glasss, 2 cups, 6 chairs, 2 dining tables, 995.8ms\n",
            "image 14/48 /content/drive/MyDrive/ColabNotebooks/Images/trainntest/coffeetable (216).jpg: 480x640 2 chairs, 2 couchs, 4 potted plants, 1 tv, 1 clock, 1 vase, 1121.3ms\n",
            "image 15/48 /content/drive/MyDrive/ColabNotebooks/Images/trainntest/coffeetable (217).jpg: 480x640 2 chairs, 2 couchs, 2 dining tables, 2 books, 1 clock, 1076.8ms\n",
            "image 16/48 /content/drive/MyDrive/ColabNotebooks/Images/trainntest/coffeetable (218).jpg: 480x640 4 persons, 5 chairs, 1 dining table, 1 tv, 1078.0ms\n",
            "image 17/48 /content/drive/MyDrive/ColabNotebooks/Images/trainntest/coffeetable (219).jpg: 480x640 3 chairs, 1 couch, 1079.2ms\n",
            "image 18/48 /content/drive/MyDrive/ColabNotebooks/Images/trainntest/coffeetable (220).jpg: 480x640 9 persons, 1 bottle, 1 cup, 3 chairs, 2 dining tables, 1 tv, 1 laptop, 1 mouse, 1 remote, 1726.9ms\n",
            "image 19/48 /content/drive/MyDrive/ColabNotebooks/Images/trainntest/coffeetable (221).jpg: 480x640 3 chairs, 2 couchs, 6 potted plants, 1 tv, 1 clock, 2 vases, 2789.0ms\n",
            "image 20/48 /content/drive/MyDrive/ColabNotebooks/Images/trainntest/coffeetable (222).jpg: 448x640 4 chairs, 2 couchs, 1 potted plant, 2 vases, 1019.3ms\n",
            "image 21/48 /content/drive/MyDrive/ColabNotebooks/Images/trainntest/coffeetable (223).jpg: 384x640 6 persons, 1 tie, 1 bottle, 1 chair, 2 couchs, 1 potted plant, 5 books, 1 vase, 869.9ms\n",
            "image 22/48 /content/drive/MyDrive/ColabNotebooks/Images/trainntest/coffeetable (224).jpg: 640x480 4 persons, 4 cars, 3 trucks, 1 cup, 1 chair, 2 dining tables, 1113.8ms\n",
            "image 23/48 /content/drive/MyDrive/ColabNotebooks/Images/trainntest/coffeetable (225).jpg: 384x640 2 persons, 7 chairs, 2 couchs, 1 potted plant, 2 dining tables, 2 tvs, 855.6ms\n",
            "image 24/48 /content/drive/MyDrive/ColabNotebooks/Images/trainntest/coffeetable (226).jpg: 384x640 2 chairs, 1 couch, 871.8ms\n",
            "image 25/48 /content/drive/MyDrive/ColabNotebooks/Images/trainntest/coffeetable (227).jpg: 448x640 2 persons, 2 potted plants, 1 tv, 1 remote, 1 keyboard, 997.4ms\n",
            "image 26/48 /content/drive/MyDrive/ColabNotebooks/Images/trainntest/coffeetable (228).jpg: 448x640 2 persons, 2 potted plants, 1 tv, 1 remote, 1 keyboard, 1000.4ms\n",
            "image 27/48 /content/drive/MyDrive/ColabNotebooks/Images/trainntest/coffeetable (229).jpg: 448x640 8 persons, 2 benchs, 1 chair, 2 dining tables, 1 book, 1650.5ms\n",
            "image 28/48 /content/drive/MyDrive/ColabNotebooks/Images/trainntest/coffeetable (230).jpg: 640x448 2 bowls, 2 chairs, 2 couchs, 1 dining table, 1790.3ms\n",
            "image 29/48 /content/drive/MyDrive/ColabNotebooks/Images/trainntest/coffeetable (231).jpg: 448x640 1 cup, 1 potted plant, 1 tv, 6 books, 3 vases, 1255.4ms\n",
            "image 30/48 /content/drive/MyDrive/ColabNotebooks/Images/trainntest/coffeetable (232).jpg: 640x448 1 cup, 5 chairs, 1 dining table, 1037.0ms\n",
            "image 31/48 /content/drive/MyDrive/ColabNotebooks/Images/trainntest/coffeetable (233).jpg: 448x640 2 persons, 1 handbag, 1 cup, 1 bowl, 2 chairs, 2 couchs, 1 laptop, 3 books, 997.4ms\n",
            "image 32/48 /content/drive/MyDrive/ColabNotebooks/Images/trainntest/coffeetable (234).jpg: 448x640 1 chair, 1 couch, 1 bed, 1 toilet, 1 tv, 998.8ms\n",
            "image 33/48 /content/drive/MyDrive/ColabNotebooks/Images/trainntest/coffeetable (235).jpg: 448x640 1 person, 1 bench, 994.9ms\n",
            "image 34/48 /content/drive/MyDrive/ColabNotebooks/Images/trainntest/coffeetable (236).jpg: 416x640 18 chairs, 1 couch, 2 potted plants, 1 vase, 982.0ms\n",
            "image 35/48 /content/drive/MyDrive/ColabNotebooks/Images/trainntest/coffeetable (237).jpg: 448x640 15 persons, 1 backpack, 1 bottle, 2 cups, 6 chairs, 2 dining tables, 2 tvs, 1 laptop, 1 mouse, 1 cell phone, 996.4ms\n",
            "image 36/48 /content/drive/MyDrive/ColabNotebooks/Images/trainntest/coffeetable (238).jpg: 640x448 2 bowls, 2 chairs, 2 couchs, 1 dining table, 1797.8ms\n",
            "image 37/48 /content/drive/MyDrive/ColabNotebooks/Images/trainntest/coffeetable (239).jpg: 416x640 1 potted plant, 3 books, 1 clock, 3 vases, 1581.1ms\n",
            "image 38/48 /content/drive/MyDrive/ColabNotebooks/Images/trainntest/coffeetable (240).jpg: 448x640 1 cup, 1 potted plant, 1 tv, 6 books, 3 vases, 1130.7ms\n",
            "image 39/48 /content/drive/MyDrive/ColabNotebooks/Images/trainntest/coffeetable (241).jpg: 448x640 2 persons, 1 couch, 1 book, 1012.5ms\n",
            "image 40/48 /content/drive/MyDrive/ColabNotebooks/Images/trainntest/coffeetable (242).jpg: 640x480 1 person, 1 handbag, 2 cups, 2 chairs, 1 dining table, 1095.0ms\n",
            "image 41/48 /content/drive/MyDrive/ColabNotebooks/Images/trainntest/coffeetable (243).jpg: 448x640 2 persons, 1 handbag, 1 cup, 1 bowl, 2 chairs, 2 couchs, 1 laptop, 3 books, 1387.0ms\n",
            "image 42/48 /content/drive/MyDrive/ColabNotebooks/Images/trainntest/coffeetable (244).jpg: 480x640 1 cup, 2 chairs, 1 couch, 2 tvs, 2 laptops, 1 book, 1073.3ms\n",
            "image 43/48 /content/drive/MyDrive/ColabNotebooks/Images/trainntest/coffeetable (245).jpg: 480x640 1 chair, 1 couch, 1 tv, 1067.4ms\n",
            "image 44/48 /content/drive/MyDrive/ColabNotebooks/Images/trainntest/coffeetable (246).jpg: 448x640 5 persons, 1 bicycle, 1 cup, 2 tvs, 1005.2ms\n",
            "image 45/48 /content/drive/MyDrive/ColabNotebooks/Images/trainntest/coffeetable (247).jpg: 480x640 3 persons, 5 chairs, 1 dining table, 1729.7ms\n",
            "image 46/48 /content/drive/MyDrive/ColabNotebooks/Images/trainntest/coffeetable (248).jpg: 480x640 1 person, 1 chair, 1 couch, 1 potted plant, 2 dining tables, 1 vase, 1791.2ms\n",
            "image 47/48 /content/drive/MyDrive/ColabNotebooks/Images/trainntest/coffeetable (249).jpg: 640x448 5 persons, 2 handbags, 2 cups, 4 chairs, 2 dining tables, 1209.2ms\n",
            "image 48/48 /content/drive/MyDrive/ColabNotebooks/Images/trainntest/coffeetable (250).jpg: 640x448 5 persons, 2 handbags, 2 cups, 4 chairs, 2 dining tables, 1035.2ms\n",
            "Speed: 1.0ms pre-process, 1250.1ms inference, 2.0ms postprocess per image at shape (1, 3, 640, 640)\n",
            "Results saved to \u001b[1mruns/detect/predict\u001b[0m\n"
          ]
        }
      ],
      "source": [
        "# Run inference on an image with YOLOv8n\n",
        "!yolo predict model=yolov8m.pt source=\"/content/drive/MyDrive/ColabNotebooks/Images/trainntest\""
      ]
    },
    {
      "cell_type": "code",
      "source": [
        "# Train YOLOv8n on COCO128 for 50 epochs\n",
        "!yolo train model=yolov8m.pt data=/content/drive/MyDrive/ColabNotebooks/yolov7/data/dataset.yaml epochs=50 imgsz=640"
      ],
      "metadata": {
        "colab": {
          "base_uri": "https://localhost:8080/"
        },
        "id": "3loqQGZ0DFGj",
        "outputId": "64e7389e-f24b-41bd-dd59-4007a0b31226"
      },
      "execution_count": 5,
      "outputs": [
        {
          "output_type": "stream",
          "name": "stdout",
          "text": [
            "Ultralytics YOLOv8.0.28 🚀 Python-3.8.10 torch-1.13.1+cu116 CPU\n",
            "\u001b[34m\u001b[1myolo/engine/trainer: \u001b[0mtask=detect, mode=train, model=yolov8m.pt, data=/content/drive/MyDrive/ColabNotebooks/yolov7/data/dataset.yaml, epochs=50, patience=50, batch=16, imgsz=640, save=True, cache=False, device=None, workers=8, project=None, name=None, exist_ok=False, pretrained=False, optimizer=SGD, verbose=True, seed=0, deterministic=True, single_cls=False, image_weights=False, rect=False, cos_lr=False, close_mosaic=10, resume=False, overlap_mask=True, mask_ratio=4, dropout=0.0, val=True, save_json=False, save_hybrid=False, conf=None, iou=0.7, max_det=300, half=False, dnn=False, plots=True, source=None, show=False, save_txt=False, save_conf=False, save_crop=False, hide_labels=False, hide_conf=False, vid_stride=1, line_thickness=3, visualize=False, augment=False, agnostic_nms=False, classes=None, retina_masks=False, boxes=True, format=torchscript, keras=False, optimize=False, int8=False, dynamic=False, simplify=False, opset=None, workspace=4, nms=False, lr0=0.01, lrf=0.01, momentum=0.937, weight_decay=0.0005, warmup_epochs=3.0, warmup_momentum=0.8, warmup_bias_lr=0.1, box=7.5, cls=0.5, dfl=1.5, fl_gamma=0.0, label_smoothing=0.0, nbs=64, hsv_h=0.015, hsv_s=0.7, hsv_v=0.4, degrees=0.0, translate=0.1, scale=0.5, shear=0.0, perspective=0.0, flipud=0.0, fliplr=0.5, mosaic=1.0, mixup=0.0, copy_paste=0.0, cfg=None, v5loader=False, save_dir=runs/detect/train\n",
            "Downloading https://ultralytics.com/assets/Arial.ttf to /root/.config/Ultralytics/Arial.ttf...\n",
            "100% 755k/755k [00:00<00:00, 17.0MB/s]\n",
            "Overriding model.yaml nc=80 with nc=1\n",
            "\n",
            "                   from  n    params  module                                       arguments                     \n",
            "  0                  -1  1      1392  ultralytics.nn.modules.Conv                  [3, 48, 3, 2]                 \n",
            "  1                  -1  1     41664  ultralytics.nn.modules.Conv                  [48, 96, 3, 2]                \n",
            "  2                  -1  2    111360  ultralytics.nn.modules.C2f                   [96, 96, 2, True]             \n",
            "  3                  -1  1    166272  ultralytics.nn.modules.Conv                  [96, 192, 3, 2]               \n",
            "  4                  -1  4    813312  ultralytics.nn.modules.C2f                   [192, 192, 4, True]           \n",
            "  5                  -1  1    664320  ultralytics.nn.modules.Conv                  [192, 384, 3, 2]              \n",
            "  6                  -1  4   3248640  ultralytics.nn.modules.C2f                   [384, 384, 4, True]           \n",
            "  7                  -1  1   1991808  ultralytics.nn.modules.Conv                  [384, 576, 3, 2]              \n",
            "  8                  -1  2   3985920  ultralytics.nn.modules.C2f                   [576, 576, 2, True]           \n",
            "  9                  -1  1    831168  ultralytics.nn.modules.SPPF                  [576, 576, 5]                 \n",
            " 10                  -1  1         0  torch.nn.modules.upsampling.Upsample         [None, 2, 'nearest']          \n",
            " 11             [-1, 6]  1         0  ultralytics.nn.modules.Concat                [1]                           \n",
            " 12                  -1  2   1993728  ultralytics.nn.modules.C2f                   [960, 384, 2]                 \n",
            " 13                  -1  1         0  torch.nn.modules.upsampling.Upsample         [None, 2, 'nearest']          \n",
            " 14             [-1, 4]  1         0  ultralytics.nn.modules.Concat                [1]                           \n",
            " 15                  -1  2    517632  ultralytics.nn.modules.C2f                   [576, 192, 2]                 \n",
            " 16                  -1  1    332160  ultralytics.nn.modules.Conv                  [192, 192, 3, 2]              \n",
            " 17            [-1, 12]  1         0  ultralytics.nn.modules.Concat                [1]                           \n",
            " 18                  -1  2   1846272  ultralytics.nn.modules.C2f                   [576, 384, 2]                 \n",
            " 19                  -1  1   1327872  ultralytics.nn.modules.Conv                  [384, 384, 3, 2]              \n",
            " 20             [-1, 9]  1         0  ultralytics.nn.modules.Concat                [1]                           \n",
            " 21                  -1  2   4207104  ultralytics.nn.modules.C2f                   [960, 576, 2]                 \n",
            " 22        [15, 18, 21]  1   3776275  ultralytics.nn.modules.Detect                [1, [192, 384, 576]]          \n",
            "Model summary: 295 layers, 25856899 parameters, 25856883 gradients, 79.1 GFLOPs\n",
            "\n",
            "Transferred 469/475 items from pretrained weights\n",
            "\u001b[34m\u001b[1moptimizer:\u001b[0m SGD(lr=0.01) with parameter groups 77 weight(decay=0.0), 84 weight(decay=0.0005), 83 bias\n",
            "\u001b[34m\u001b[1mtrain: \u001b[0mScanning /content/drive/MyDrive/ColabNotebooks/Images/trainntest... 48 images, 0 backgrounds, 0 corrupt: 100% 48/48 [00:14<00:00,  3.40it/s]\n",
            "\u001b[34m\u001b[1mtrain: \u001b[0mNew cache created: /content/drive/MyDrive/ColabNotebooks/Images/trainntest.cache\n",
            "\u001b[34m\u001b[1malbumentations: \u001b[0mBlur(p=0.01, blur_limit=(3, 7)), MedianBlur(p=0.01, blur_limit=(3, 7)), ToGray(p=0.01), CLAHE(p=0.01, clip_limit=(1, 4.0), tile_grid_size=(8, 8))\n",
            "/usr/local/lib/python3.8/dist-packages/torch/cuda/__init__.py:497: UserWarning: Can't initialize NVML\n",
            "  warnings.warn(\"Can't initialize NVML\")\n",
            "\u001b[34m\u001b[1mval: \u001b[0mScanning /content/drive/MyDrive/ColabNotebooks/Images/trainntest.cache... 48 images, 0 backgrounds, 0 corrupt: 100% 48/48 [00:00<?, ?it/s]\n",
            "Image sizes 640 train, 640 val\n",
            "Using 0 dataloader workers\n",
            "Logging results to \u001b[1mruns/detect/train\u001b[0m\n",
            "Starting training for 50 epochs...\n",
            "\n",
            "      Epoch    GPU_mem   box_loss   cls_loss   dfl_loss  Instances       Size\n",
            "       1/50         0G       2.26      3.668      2.333         55        640: 100% 3/3 [04:40<00:00, 93.59s/it]\n",
            "                 Class     Images  Instances      Box(P          R      mAP50  mAP50-95): 100% 2/2 [01:14<00:00, 37.18s/it]\n",
            "                   all         48         78     0.0425      0.115     0.0379     0.0115\n",
            "\n",
            "      Epoch    GPU_mem   box_loss   cls_loss   dfl_loss  Instances       Size\n",
            "       2/50         0G      2.254      2.891      2.296         50        640: 100% 3/3 [04:36<00:00, 92.25s/it]\n",
            "                 Class     Images  Instances      Box(P          R      mAP50  mAP50-95): 100% 2/2 [01:13<00:00, 36.92s/it]\n",
            "                   all         48         78      0.165      0.346      0.193     0.0568\n",
            "\n",
            "      Epoch    GPU_mem   box_loss   cls_loss   dfl_loss  Instances       Size\n",
            "       3/50         0G      2.254      2.333      2.324         55        640: 100% 3/3 [04:29<00:00, 89.99s/it]\n",
            "                 Class     Images  Instances      Box(P          R      mAP50  mAP50-95): 100% 2/2 [01:12<00:00, 36.17s/it]\n",
            "                   all         48         78       0.54      0.603      0.511      0.152\n",
            "\n",
            "      Epoch    GPU_mem   box_loss   cls_loss   dfl_loss  Instances       Size\n",
            "       4/50         0G       2.12       2.05      2.121         45        640: 100% 3/3 [04:28<00:00, 89.47s/it]\n",
            "                 Class     Images  Instances      Box(P          R      mAP50  mAP50-95): 100% 2/2 [01:11<00:00, 35.71s/it]\n",
            "                   all         48         78      0.718      0.603      0.682      0.237\n",
            "\n",
            "      Epoch    GPU_mem   box_loss   cls_loss   dfl_loss  Instances       Size\n",
            "       5/50         0G      2.149      1.725      2.129         47        640: 100% 3/3 [04:24<00:00, 88.24s/it]\n",
            "                 Class     Images  Instances      Box(P          R      mAP50  mAP50-95): 100% 2/2 [01:11<00:00, 35.87s/it]\n",
            "                   all         48         78       0.77      0.718      0.731      0.288\n",
            "\n",
            "      Epoch    GPU_mem   box_loss   cls_loss   dfl_loss  Instances       Size\n",
            "       6/50         0G      2.036      1.657      1.959         54        640: 100% 3/3 [04:22<00:00, 87.54s/it]\n",
            "                 Class     Images  Instances      Box(P          R      mAP50  mAP50-95): 100% 2/2 [01:11<00:00, 35.74s/it]\n",
            "                   all         48         78      0.854      0.751      0.808      0.323\n",
            "\n",
            "      Epoch    GPU_mem   box_loss   cls_loss   dfl_loss  Instances       Size\n",
            "       7/50         0G      1.874      1.623       1.85         47        640: 100% 3/3 [04:22<00:00, 87.64s/it]\n",
            "                 Class     Images  Instances      Box(P          R      mAP50  mAP50-95): 100% 2/2 [01:11<00:00, 35.57s/it]\n",
            "                   all         48         78      0.914      0.756      0.857      0.366\n",
            "\n",
            "      Epoch    GPU_mem   box_loss   cls_loss   dfl_loss  Instances       Size\n",
            "       8/50         0G      1.755      1.363      1.717         57        640: 100% 3/3 [04:23<00:00, 87.97s/it]\n",
            "                 Class     Images  Instances      Box(P          R      mAP50  mAP50-95): 100% 2/2 [01:11<00:00, 35.91s/it]\n",
            "                   all         48         78      0.931      0.769      0.869      0.394\n",
            "\n",
            "      Epoch    GPU_mem   box_loss   cls_loss   dfl_loss  Instances       Size\n",
            "       9/50         0G      1.767      1.386      1.705         59        640: 100% 3/3 [04:24<00:00, 88.17s/it]\n",
            "                 Class     Images  Instances      Box(P          R      mAP50  mAP50-95): 100% 2/2 [01:12<00:00, 36.18s/it]\n",
            "                   all         48         78      0.916      0.836      0.909      0.421\n",
            "\n",
            "      Epoch    GPU_mem   box_loss   cls_loss   dfl_loss  Instances       Size\n",
            "      10/50         0G      1.771      1.316      1.693         68        640: 100% 3/3 [04:24<00:00, 88.13s/it]\n",
            "                 Class     Images  Instances      Box(P          R      mAP50  mAP50-95): 100% 2/2 [01:12<00:00, 36.43s/it]\n",
            "                   all         48         78      0.858       0.85      0.908      0.436\n",
            "\n",
            "      Epoch    GPU_mem   box_loss   cls_loss   dfl_loss  Instances       Size\n",
            "      11/50         0G      1.762      1.323      1.735         58        640: 100% 3/3 [04:23<00:00, 87.97s/it]\n",
            "                 Class     Images  Instances      Box(P          R      mAP50  mAP50-95): 100% 2/2 [01:12<00:00, 36.23s/it]\n",
            "                   all         48         78      0.904      0.843      0.896      0.481\n",
            "\n",
            "      Epoch    GPU_mem   box_loss   cls_loss   dfl_loss  Instances       Size\n",
            "      12/50         0G      1.624      1.259      1.664         54        640: 100% 3/3 [04:23<00:00, 87.71s/it]\n",
            "                 Class     Images  Instances      Box(P          R      mAP50  mAP50-95): 100% 2/2 [01:12<00:00, 36.14s/it]\n",
            "                   all         48         78      0.918      0.857       0.92      0.506\n",
            "\n",
            "      Epoch    GPU_mem   box_loss   cls_loss   dfl_loss  Instances       Size\n",
            "      13/50         0G      1.647      1.127      1.659         56        640: 100% 3/3 [04:23<00:00, 87.87s/it]\n",
            "                 Class     Images  Instances      Box(P          R      mAP50  mAP50-95): 100% 2/2 [01:11<00:00, 35.98s/it]\n",
            "                   all         48         78      0.952      0.795      0.936      0.543\n",
            "\n",
            "      Epoch    GPU_mem   box_loss   cls_loss   dfl_loss  Instances       Size\n",
            "      14/50         0G      1.565      1.186      1.651         46        640: 100% 3/3 [04:24<00:00, 88.09s/it]\n",
            "                 Class     Images  Instances      Box(P          R      mAP50  mAP50-95): 100% 2/2 [01:12<00:00, 36.15s/it]\n",
            "                   all         48         78      0.878      0.833      0.911      0.556\n",
            "\n",
            "      Epoch    GPU_mem   box_loss   cls_loss   dfl_loss  Instances       Size\n",
            "      15/50         0G      1.477      1.114      1.515         53        640: 100% 3/3 [04:26<00:00, 89.00s/it]\n",
            "                 Class     Images  Instances      Box(P          R      mAP50  mAP50-95): 100% 2/2 [01:12<00:00, 36.08s/it]\n",
            "                   all         48         78       0.92      0.887      0.947        0.6\n",
            "\n",
            "      Epoch    GPU_mem   box_loss   cls_loss   dfl_loss  Instances       Size\n",
            "      16/50         0G      1.373      0.977       1.44         57        640: 100% 3/3 [04:25<00:00, 88.54s/it]\n",
            "                 Class     Images  Instances      Box(P          R      mAP50  mAP50-95): 100% 2/2 [01:11<00:00, 35.97s/it]\n",
            "                   all         48         78      0.954      0.859      0.964      0.614\n",
            "\n",
            "      Epoch    GPU_mem   box_loss   cls_loss   dfl_loss  Instances       Size\n",
            "      17/50         0G      1.446      0.943      1.487         43        640: 100% 3/3 [04:26<00:00, 88.95s/it]\n",
            "                 Class     Images  Instances      Box(P          R      mAP50  mAP50-95): 100% 2/2 [01:11<00:00, 35.90s/it]\n",
            "                   all         48         78      0.884      0.859      0.948      0.615\n",
            "\n",
            "      Epoch    GPU_mem   box_loss   cls_loss   dfl_loss  Instances       Size\n",
            "      18/50         0G       1.41      1.104       1.45         50        640: 100% 3/3 [04:25<00:00, 88.56s/it]\n",
            "                 Class     Images  Instances      Box(P          R      mAP50  mAP50-95): 100% 2/2 [01:13<00:00, 36.76s/it]\n",
            "                   all         48         78          1      0.872      0.969       0.62\n",
            "\n",
            "      Epoch    GPU_mem   box_loss   cls_loss   dfl_loss  Instances       Size\n",
            "      19/50         0G      1.371     0.9749      1.405         59        640: 100% 3/3 [04:26<00:00, 88.68s/it]\n",
            "                 Class     Images  Instances      Box(P          R      mAP50  mAP50-95): 100% 2/2 [01:13<00:00, 36.53s/it]\n",
            "                   all         48         78      0.946      0.891      0.971      0.636\n",
            "\n",
            "      Epoch    GPU_mem   box_loss   cls_loss   dfl_loss  Instances       Size\n",
            "      20/50         0G      1.424      1.059      1.446         59        640: 100% 3/3 [04:25<00:00, 88.52s/it]\n",
            "                 Class     Images  Instances      Box(P          R      mAP50  mAP50-95): 100% 2/2 [01:12<00:00, 36.29s/it]\n",
            "                   all         48         78      0.973      0.909      0.967      0.623\n",
            "\n",
            "      Epoch    GPU_mem   box_loss   cls_loss   dfl_loss  Instances       Size\n",
            "      21/50         0G      1.353     0.8883      1.433         47        640: 100% 3/3 [04:26<00:00, 88.89s/it]\n",
            "                 Class     Images  Instances      Box(P          R      mAP50  mAP50-95): 100% 2/2 [01:12<00:00, 36.06s/it]\n",
            "                   all         48         78      0.964      0.885       0.97       0.64\n",
            "\n",
            "      Epoch    GPU_mem   box_loss   cls_loss   dfl_loss  Instances       Size\n",
            "      22/50         0G      1.296     0.9772      1.382         65        640: 100% 3/3 [04:23<00:00, 87.99s/it]\n",
            "                 Class     Images  Instances      Box(P          R      mAP50  mAP50-95): 100% 2/2 [01:11<00:00, 35.86s/it]\n",
            "                   all         48         78      0.982       0.91      0.976      0.622\n",
            "\n",
            "      Epoch    GPU_mem   box_loss   cls_loss   dfl_loss  Instances       Size\n",
            "      23/50         0G      1.223     0.9001      1.337         43        640: 100% 3/3 [04:23<00:00, 87.77s/it]\n",
            "                 Class     Images  Instances      Box(P          R      mAP50  mAP50-95): 100% 2/2 [01:11<00:00, 35.83s/it]\n",
            "                   all         48         78      0.985      0.949      0.986      0.677\n",
            "\n",
            "      Epoch    GPU_mem   box_loss   cls_loss   dfl_loss  Instances       Size\n",
            "      24/50         0G      1.177     0.7503      1.309         54        640: 100% 3/3 [04:22<00:00, 87.66s/it]\n",
            "                 Class     Images  Instances      Box(P          R      mAP50  mAP50-95): 100% 2/2 [01:12<00:00, 36.02s/it]\n",
            "                   all         48         78      0.958      0.949      0.987      0.691\n",
            "\n",
            "      Epoch    GPU_mem   box_loss   cls_loss   dfl_loss  Instances       Size\n",
            "      25/50         0G      1.128     0.7475      1.312         36        640: 100% 3/3 [04:25<00:00, 88.64s/it]\n",
            "                 Class     Images  Instances      Box(P          R      mAP50  mAP50-95): 100% 2/2 [01:12<00:00, 36.45s/it]\n",
            "                   all         48         78      0.926      0.965      0.984       0.69\n",
            "\n",
            "      Epoch    GPU_mem   box_loss   cls_loss   dfl_loss  Instances       Size\n",
            "      26/50         0G      1.208     0.9043      1.325         57        640: 100% 3/3 [04:25<00:00, 88.64s/it]\n",
            "                 Class     Images  Instances      Box(P          R      mAP50  mAP50-95): 100% 2/2 [01:11<00:00, 35.78s/it]\n",
            "                   all         48         78      0.962      0.975      0.991      0.698\n",
            "\n",
            "      Epoch    GPU_mem   box_loss   cls_loss   dfl_loss  Instances       Size\n",
            "      27/50         0G      1.139     0.7222      1.277         51        640: 100% 3/3 [04:24<00:00, 88.26s/it]\n",
            "                 Class     Images  Instances      Box(P          R      mAP50  mAP50-95): 100% 2/2 [01:11<00:00, 35.63s/it]\n",
            "                   all         48         78      0.958      0.962      0.975      0.704\n",
            "\n",
            "      Epoch    GPU_mem   box_loss   cls_loss   dfl_loss  Instances       Size\n",
            "      28/50         0G      1.082     0.7444      1.278         46        640: 100% 3/3 [04:25<00:00, 88.42s/it]\n",
            "                 Class     Images  Instances      Box(P          R      mAP50  mAP50-95): 100% 2/2 [01:11<00:00, 35.95s/it]\n",
            "                   all         48         78      0.972      0.962      0.972      0.727\n",
            "\n",
            "      Epoch    GPU_mem   box_loss   cls_loss   dfl_loss  Instances       Size\n",
            "      29/50         0G      1.113     0.6701      1.251         45        640: 100% 3/3 [04:23<00:00, 87.91s/it]\n",
            "                 Class     Images  Instances      Box(P          R      mAP50  mAP50-95): 100% 2/2 [01:11<00:00, 35.58s/it]\n",
            "                   all         48         78      0.972      0.962      0.972      0.727\n",
            "\n",
            "      Epoch    GPU_mem   box_loss   cls_loss   dfl_loss  Instances       Size\n",
            "      30/50         0G      1.025     0.6771      1.212         76        640: 100% 3/3 [04:24<00:00, 88.11s/it]\n",
            "                 Class     Images  Instances      Box(P          R      mAP50  mAP50-95): 100% 2/2 [01:11<00:00, 35.82s/it]\n",
            "                   all         48         78      0.956      0.949      0.974      0.718\n",
            "\n",
            "      Epoch    GPU_mem   box_loss   cls_loss   dfl_loss  Instances       Size\n",
            "      31/50         0G      1.075     0.6765      1.214         47        640: 100% 3/3 [04:25<00:00, 88.61s/it]\n",
            "                 Class     Images  Instances      Box(P          R      mAP50  mAP50-95): 100% 2/2 [01:11<00:00, 35.83s/it]\n",
            "                   all         48         78      0.945      0.949      0.966       0.73\n",
            "\n",
            "      Epoch    GPU_mem   box_loss   cls_loss   dfl_loss  Instances       Size\n",
            "      32/50         0G      1.088       0.66       1.24         59        640: 100% 3/3 [04:27<00:00, 89.07s/it]\n",
            "                 Class     Images  Instances      Box(P          R      mAP50  mAP50-95): 100% 2/2 [01:12<00:00, 36.46s/it]\n",
            "                   all         48         78      0.971      0.936      0.962      0.736\n",
            "\n",
            "      Epoch    GPU_mem   box_loss   cls_loss   dfl_loss  Instances       Size\n",
            "      33/50         0G      1.082     0.6842      1.239         59        640: 100% 3/3 [04:26<00:00, 88.94s/it]\n",
            "                 Class     Images  Instances      Box(P          R      mAP50  mAP50-95): 100% 2/2 [01:12<00:00, 36.25s/it]\n",
            "                   all         48         78      0.971      0.936      0.962      0.736\n",
            "\n",
            "      Epoch    GPU_mem   box_loss   cls_loss   dfl_loss  Instances       Size\n",
            "      34/50         0G      1.021     0.6483      1.174         55        640: 100% 3/3 [04:25<00:00, 88.39s/it]\n",
            "                 Class     Images  Instances      Box(P          R      mAP50  mAP50-95): 100% 2/2 [01:12<00:00, 36.02s/it]\n",
            "                   all         48         78      0.974      0.956      0.969      0.738\n",
            "\n",
            "      Epoch    GPU_mem   box_loss   cls_loss   dfl_loss  Instances       Size\n",
            "      35/50         0G      1.027     0.6564      1.209         50        640: 100% 3/3 [04:26<00:00, 88.81s/it]\n",
            "                 Class     Images  Instances      Box(P          R      mAP50  mAP50-95): 100% 2/2 [01:11<00:00, 35.85s/it]\n",
            "                   all         48         78      0.967      0.949      0.964      0.735\n",
            "\n",
            "      Epoch    GPU_mem   box_loss   cls_loss   dfl_loss  Instances       Size\n",
            "      36/50         0G      1.036     0.7019      1.175         53        640: 100% 3/3 [04:23<00:00, 87.75s/it]\n",
            "                 Class     Images  Instances      Box(P          R      mAP50  mAP50-95): 100% 2/2 [01:11<00:00, 35.68s/it]\n",
            "                   all         48         78      0.934      0.974      0.977       0.73\n",
            "\n",
            "      Epoch    GPU_mem   box_loss   cls_loss   dfl_loss  Instances       Size\n",
            "      37/50         0G     0.9694     0.6035      1.132         46        640: 100% 3/3 [04:21<00:00, 87.25s/it]\n",
            "                 Class     Images  Instances      Box(P          R      mAP50  mAP50-95): 100% 2/2 [01:11<00:00, 35.61s/it]\n",
            "                   all         48         78      0.934      0.974      0.977       0.73\n",
            "\n",
            "      Epoch    GPU_mem   box_loss   cls_loss   dfl_loss  Instances       Size\n",
            "      38/50         0G      1.093     0.7385      1.217         44        640: 100% 3/3 [04:22<00:00, 87.54s/it]\n",
            "                 Class     Images  Instances      Box(P          R      mAP50  mAP50-95): 100% 2/2 [01:11<00:00, 35.72s/it]\n",
            "                   all         48         78      0.958      0.936      0.976      0.738\n",
            "\n",
            "      Epoch    GPU_mem   box_loss   cls_loss   dfl_loss  Instances       Size\n",
            "      39/50         0G     0.9652     0.6646      1.141         57        640: 100% 3/3 [04:26<00:00, 88.70s/it]\n",
            "                 Class     Images  Instances      Box(P          R      mAP50  mAP50-95): 100% 2/2 [01:12<00:00, 36.22s/it]\n",
            "                   all         48         78      0.935      0.962      0.981      0.745\n",
            "\n",
            "      Epoch    GPU_mem   box_loss   cls_loss   dfl_loss  Instances       Size\n",
            "      40/50         0G      1.029     0.6755      1.255         58        640: 100% 3/3 [04:25<00:00, 88.37s/it]\n",
            "                 Class     Images  Instances      Box(P          R      mAP50  mAP50-95): 100% 2/2 [01:11<00:00, 35.54s/it]\n",
            "                   all         48         78      0.961      0.948      0.984      0.759\n",
            "Closing dataloader mosaic\n",
            "\u001b[34m\u001b[1malbumentations: \u001b[0mBlur(p=0.01, blur_limit=(3, 7)), MedianBlur(p=0.01, blur_limit=(3, 7)), ToGray(p=0.01), CLAHE(p=0.01, clip_limit=(1, 4.0), tile_grid_size=(8, 8))\n",
            "\n",
            "      Epoch    GPU_mem   box_loss   cls_loss   dfl_loss  Instances       Size\n",
            "      41/50         0G      1.024     0.6524      1.235         27        640: 100% 3/3 [04:22<00:00, 87.47s/it]\n",
            "                 Class     Images  Instances      Box(P          R      mAP50  mAP50-95): 100% 2/2 [01:11<00:00, 35.84s/it]\n",
            "                   all         48         78      0.961      0.948      0.984      0.759\n",
            "\n",
            "      Epoch    GPU_mem   box_loss   cls_loss   dfl_loss  Instances       Size\n",
            "      42/50         0G      1.011     0.6122      1.174         24        640: 100% 3/3 [04:21<00:00, 87.07s/it]\n",
            "                 Class     Images  Instances      Box(P          R      mAP50  mAP50-95): 100% 2/2 [01:11<00:00, 35.75s/it]\n",
            "                   all         48         78      0.961      0.943      0.983      0.762\n",
            "\n",
            "      Epoch    GPU_mem   box_loss   cls_loss   dfl_loss  Instances       Size\n",
            "      43/50         0G     0.9849     0.6119      1.193         24        640: 100% 3/3 [04:23<00:00, 87.96s/it]\n",
            "                 Class     Images  Instances      Box(P          R      mAP50  mAP50-95): 100% 2/2 [01:12<00:00, 36.17s/it]\n",
            "                   all         48         78       0.96      0.936      0.984      0.759\n",
            "\n",
            "      Epoch    GPU_mem   box_loss   cls_loss   dfl_loss  Instances       Size\n",
            "      44/50         0G     0.9097     0.5495      1.191         28        640: 100% 3/3 [04:21<00:00, 87.28s/it]\n",
            "                 Class     Images  Instances      Box(P          R      mAP50  mAP50-95): 100% 2/2 [01:12<00:00, 36.09s/it]\n",
            "                   all         48         78      0.973       0.94      0.987      0.766\n",
            "\n",
            "      Epoch    GPU_mem   box_loss   cls_loss   dfl_loss  Instances       Size\n",
            "      45/50         0G     0.8605     0.5106      1.149         28        640: 100% 3/3 [04:22<00:00, 87.35s/it]\n",
            "                 Class     Images  Instances      Box(P          R      mAP50  mAP50-95): 100% 2/2 [01:12<00:00, 36.25s/it]\n",
            "                   all         48         78      0.973       0.94      0.987      0.766\n",
            "\n",
            "      Epoch    GPU_mem   box_loss   cls_loss   dfl_loss  Instances       Size\n",
            "      46/50         0G     0.9228     0.5172      1.162         26        640: 100% 3/3 [04:26<00:00, 88.99s/it]\n",
            "                 Class     Images  Instances      Box(P          R      mAP50  mAP50-95): 100% 2/2 [01:12<00:00, 36.04s/it]\n",
            "                   all         48         78      0.961      0.953      0.988      0.779\n",
            "\n",
            "      Epoch    GPU_mem   box_loss   cls_loss   dfl_loss  Instances       Size\n",
            "      47/50         0G     0.8797     0.5097      1.148         28        640: 100% 3/3 [04:22<00:00, 87.52s/it]\n",
            "                 Class     Images  Instances      Box(P          R      mAP50  mAP50-95): 100% 2/2 [01:12<00:00, 36.29s/it]\n",
            "                   all         48         78      0.962      0.965      0.989      0.789\n",
            "\n",
            "      Epoch    GPU_mem   box_loss   cls_loss   dfl_loss  Instances       Size\n",
            "      48/50         0G     0.8703     0.5219      1.128         26        640: 100% 3/3 [04:21<00:00, 87.02s/it]\n",
            "                 Class     Images  Instances      Box(P          R      mAP50  mAP50-95): 100% 2/2 [01:11<00:00, 35.76s/it]\n",
            "                   all         48         78      0.974      0.948      0.989      0.797\n",
            "\n",
            "      Epoch    GPU_mem   box_loss   cls_loss   dfl_loss  Instances       Size\n",
            "      49/50         0G     0.7861     0.4716      1.066         27        640: 100% 3/3 [04:26<00:00, 88.73s/it]\n",
            "                 Class     Images  Instances      Box(P          R      mAP50  mAP50-95): 100% 2/2 [01:12<00:00, 36.08s/it]\n",
            "                   all         48         78      0.974      0.948      0.989      0.797\n",
            "\n",
            "      Epoch    GPU_mem   box_loss   cls_loss   dfl_loss  Instances       Size\n",
            "      50/50         0G     0.8131     0.4761       1.12         26        640: 100% 3/3 [04:22<00:00, 87.49s/it]\n",
            "                 Class     Images  Instances      Box(P          R      mAP50  mAP50-95): 100% 2/2 [01:12<00:00, 36.21s/it]\n",
            "                   all         48         78      0.962      0.969       0.99      0.794\n",
            "\n",
            "50 epochs completed in 4.710 hours.\n",
            "Optimizer stripped from runs/detect/train/weights/last.pt, 52.0MB\n",
            "Optimizer stripped from runs/detect/train/weights/best.pt, 52.0MB\n",
            "\n",
            "Validating runs/detect/train/weights/best.pt...\n",
            "Ultralytics YOLOv8.0.28 🚀 Python-3.8.10 torch-1.13.1+cu116 CPU\n",
            "Model summary (fused): 218 layers, 25840339 parameters, 0 gradients, 78.7 GFLOPs\n",
            "                 Class     Images  Instances      Box(P          R      mAP50  mAP50-95): 100% 2/2 [01:11<00:00, 35.58s/it]\n",
            "                   all         48         78      0.974      0.948       0.99      0.797\n",
            "Speed: 2.6ms pre-process, 1452.8ms inference, 0.0ms loss, 1.4ms post-process per image\n",
            "Results saved to \u001b[1mruns/detect/train\u001b[0m\n"
          ]
        }
      ]
    },
    {
      "cell_type": "code",
      "execution_count": 10,
      "metadata": {
        "colab": {
          "base_uri": "https://localhost:8080/"
        },
        "id": "slqRwhqClKsl",
        "outputId": "f143e067-c242-41f8-b157-383f5321b556"
      },
      "outputs": [
        {
          "output_type": "stream",
          "name": "stdout",
          "text": [
            "Ultralytics YOLOv8.0.28 🚀 Python-3.8.10 torch-1.13.1+cu116 CPU\n",
            "Model summary (fused): 218 layers, 25840339 parameters, 0 gradients, 78.7 GFLOPs\n",
            "\u001b[34m\u001b[1mval: \u001b[0mScanning /content/drive/MyDrive/ColabNotebooks/Images/trainntest.cache... 48 images, 0 backgrounds, 0 corrupt: 100% 48/48 [00:00<?, ?it/s]\n",
            "/usr/local/lib/python3.8/dist-packages/torch/cuda/__init__.py:497: UserWarning: Can't initialize NVML\n",
            "  warnings.warn(\"Can't initialize NVML\")\n",
            "                 Class     Images  Instances      Box(P          R      mAP50  mAP50-95): 100% 3/3 [01:11<00:00, 23.71s/it]\n",
            "                   all         48         78      0.952      0.962       0.99      0.794\n",
            "Speed: 3.6ms pre-process, 1446.2ms inference, 0.0ms loss, 0.8ms post-process per image\n"
          ]
        }
      ],
      "source": [
        "# Validate YOLOv8n on COCO128 val\n",
        "!yolo val model=runs/detect/train/weights/best.pt data=/content/drive/MyDrive/ColabNotebooks/yolov7/data/dataset.yaml"
      ]
    },
    {
      "cell_type": "code",
      "source": [],
      "metadata": {
        "id": "fMLbRW9ADD38"
      },
      "execution_count": null,
      "outputs": []
    },
    {
      "cell_type": "code",
      "execution_count": 11,
      "metadata": {
        "colab": {
          "base_uri": "https://localhost:8080/"
        },
        "id": "y7OsROVFrUx-",
        "outputId": "2c635a2b-5cbe-445d-f514-0fb9ed547520"
      },
      "outputs": [
        {
          "output_type": "stream",
          "name": "stdout",
          "text": [
            "Ultralytics YOLOv8.0.28 🚀 Python-3.8.10 torch-1.13.1+cu116 CPU\n",
            "Model summary (fused): 218 layers, 25840339 parameters, 0 gradients, 78.7 GFLOPs\n",
            "\n",
            "image 1/1 /content/drive/MyDrive/ColabNotebooks/Images/traintest/coffeetable (1000).jpg: 544x640 1373.9ms\n",
            "Speed: 3.4ms pre-process, 1373.9ms inference, 0.7ms postprocess per image at shape (1, 3, 640, 640)\n",
            "Results saved to \u001b[1mruns/detect/predict2\u001b[0m\n"
          ]
        }
      ],
      "source": [
        "# Run inference on an image with YOLOv8n\n",
        "!yolo predict model=runs/detect/train/weights/best.pt source=\"/content/drive/MyDrive/ColabNotebooks/Images/traintest/coffeetable (1000).jpg\""
      ]
    },
    {
      "cell_type": "code",
      "execution_count": 9,
      "metadata": {
        "id": "h0S-uAzOs7BH",
        "colab": {
          "base_uri": "https://localhost:8080/"
        },
        "outputId": "15c31075-7dfe-44ed-ac56-80ab11c18f94"
      },
      "outputs": [
        {
          "output_type": "stream",
          "name": "stdout",
          "text": [
            "Ultralytics YOLOv8.0.28 🚀 Python-3.8.10 torch-1.13.1+cu116 CPU\n",
            "YOLOv8m summary (fused): 218 layers, 25886080 parameters, 0 gradients, 78.9 GFLOPs\n",
            "\n",
            "\u001b[34m\u001b[1mPyTorch:\u001b[0m starting from yolov8m.pt with input shape (1, 3, 640, 640) and output shape (1, 84, 8400) (49.7 MB)\n",
            "\n",
            "\u001b[34m\u001b[1mTorchScript:\u001b[0m starting export with torch 1.13.1+cu116...\n",
            "\u001b[34m\u001b[1mTorchScript:\u001b[0m export success ✅ 10.5s, saved as yolov8m.torchscript (99.2 MB)\n",
            "\n",
            "Export complete (14.8s)\n",
            "Results saved to \u001b[1m/content\u001b[0m\n",
            "Predict:         yolo task=detect mode=predict model=yolov8m.torchscript -WARNING ⚠️ not yet supported for YOLOv8 exported models\n",
            "Validate:        yolo task=detect mode=val model=yolov8m.torchscript -WARNING ⚠️ not yet supported for YOLOv8 exported models\n",
            "Visualize:       https://netron.app\n"
          ]
        }
      ],
      "source": [
        "#Exporting the model\n",
        "!yolo export model=yolov8m.pt format=torchscript"
      ]
    },
    {
      "cell_type": "code",
      "source": [
        "#Exporting the model in onmx\n",
        "!yolo export model=yolov8m.pt format=onnx"
      ],
      "metadata": {
        "colab": {
          "base_uri": "https://localhost:8080/"
        },
        "id": "ObLwTBbE9zPZ",
        "outputId": "fc7754f1-bcc1-4f47-acef-144bef098b8f"
      },
      "execution_count": 12,
      "outputs": [
        {
          "output_type": "stream",
          "name": "stdout",
          "text": [
            "Ultralytics YOLOv8.0.28 🚀 Python-3.8.10 torch-1.13.1+cu116 CPU\n",
            "YOLOv8m summary (fused): 218 layers, 25886080 parameters, 0 gradients, 78.9 GFLOPs\n",
            "\n",
            "\u001b[34m\u001b[1mPyTorch:\u001b[0m starting from yolov8m.pt with input shape (1, 3, 640, 640) and output shape (1, 84, 8400) (49.7 MB)\n",
            "\u001b[31m\u001b[1mrequirements:\u001b[0m YOLOv8 requirement \"onnx>=1.12.0\" not found, attempting AutoUpdate...\n",
            "\u001b[31mERROR: pip's dependency resolver does not currently take into account all the packages that are installed. This behaviour is the source of the following dependency conflicts.\n",
            "tensorflow 2.9.2 requires protobuf<3.20,>=3.9.2, but you have protobuf 3.20.3 which is incompatible.\n",
            "tensorboard 2.9.1 requires protobuf<3.20,>=3.9.2, but you have protobuf 3.20.3 which is incompatible.\u001b[0m\u001b[31m\n",
            "\u001b[0mLooking in indexes: https://pypi.org/simple, https://us-python.pkg.dev/colab-wheels/public/simple/\n",
            "Collecting onnx>=1.12.0\n",
            "  Downloading onnx-1.13.0-cp38-cp38-manylinux_2_17_x86_64.manylinux2014_x86_64.whl (13.5 MB)\n",
            "     ━━━━━━━━━━━━━━━━━━━━━━━━━━━━━━━━━━━━━━━━ 13.5/13.5 MB 59.0 MB/s eta 0:00:00\n",
            "Requirement already satisfied: typing-extensions>=3.6.2.1 in /usr/local/lib/python3.8/dist-packages (from onnx>=1.12.0) (4.4.0)\n",
            "Requirement already satisfied: numpy>=1.16.6 in /usr/local/lib/python3.8/dist-packages (from onnx>=1.12.0) (1.21.6)\n",
            "Collecting protobuf<4,>=3.20.2\n",
            "  Downloading protobuf-3.20.3-cp38-cp38-manylinux_2_5_x86_64.manylinux1_x86_64.whl (1.0 MB)\n",
            "     ━━━━━━━━━━━━━━━━━━━━━━━━━━━━━━━━━━━━━━━━ 1.0/1.0 MB 48.4 MB/s eta 0:00:00\n",
            "Installing collected packages: protobuf, onnx\n",
            "  Attempting uninstall: protobuf\n",
            "    Found existing installation: protobuf 3.19.6\n",
            "    Uninstalling protobuf-3.19.6:\n",
            "      Successfully uninstalled protobuf-3.19.6\n",
            "Successfully installed onnx-1.13.0 protobuf-3.20.3\n",
            "\n",
            "\u001b[31m\u001b[1mrequirements:\u001b[0m 1 package updated per ['onnx>=1.12.0']\n",
            "\u001b[31m\u001b[1mrequirements:\u001b[0m ⚠️ \u001b[1mRestart runtime or rerun command for updates to take effect\u001b[0m\n",
            "\n",
            "\n",
            "\u001b[34m\u001b[1mONNX:\u001b[0m starting export with onnx 1.13.0...\n",
            "\u001b[34m\u001b[1mONNX:\u001b[0m export success ✅ 18.9s, saved as yolov8m.onnx (99.0 MB)\n",
            "\n",
            "Export complete (22.8s)\n",
            "Results saved to \u001b[1m/content\u001b[0m\n",
            "Predict:         yolo task=detect mode=predict model=yolov8m.onnx -WARNING ⚠️ not yet supported for YOLOv8 exported models\n",
            "Validate:        yolo task=detect mode=val model=yolov8m.onnx -WARNING ⚠️ not yet supported for YOLOv8 exported models\n",
            "Visualize:       https://netron.app\n"
          ]
        }
      ]
    },
    {
      "cell_type": "code",
      "source": [
        "import torch\n",
        "\n",
        "model = \"yolov8m.onnx\" # Your YOLOv8 model\n",
        "torch.save(model, \"coffeetable.pth\")\n"
      ],
      "metadata": {
        "id": "5Ia1p7P697-s"
      },
      "execution_count": 19,
      "outputs": []
    },
    {
      "cell_type": "code",
      "source": [
        "!cp yolov8.pth \"/content/drive/MyDrive/coffeetable.pth\"\n"
      ],
      "metadata": {
        "id": "uwNqRqd0-V3i"
      },
      "execution_count": 20,
      "outputs": []
    },
    {
      "cell_type": "code",
      "source": [],
      "metadata": {
        "id": "kKfOQ39O-0ED"
      },
      "execution_count": null,
      "outputs": []
    }
  ],
  "metadata": {
    "colab": {
      "provenance": [],
      "authorship_tag": "ABX9TyPs2Mvp7doOXkQ5ExnZt4u+",
      "include_colab_link": true
    },
    "kernelspec": {
      "display_name": "Python 3",
      "name": "python3"
    },
    "language_info": {
      "name": "python"
    }
  },
  "nbformat": 4,
  "nbformat_minor": 0
}